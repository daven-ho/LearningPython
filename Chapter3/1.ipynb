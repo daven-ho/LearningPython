{
 "cells": [
  {
   "cell_type": "code",
   "execution_count": 6,
   "metadata": {},
   "outputs": [
    {
     "name": "stdout",
     "output_type": "stream",
     "text": [
      "Passed:  10\n",
      "Failures:  0\n",
      "Bonus to instructor\n"
     ]
    }
   ],
   "source": [
    "passes = 0\n",
    "students = 10\n",
    "\n",
    "for student in range(10):\n",
    "    result = int(input('Enter result (1=pass, 2=fail): '))\n",
    "    if result == 1:\n",
    "        passes += 1\n",
    "    elif result == 2:\n",
    "        pass\n",
    "    else:\n",
    "        print('Invalid response. Please try again.')\n",
    "\n",
    "failures = students - passes\n",
    "\n",
    "print('Passed: ', passes)\n",
    "print('Failures: ', failures)\n",
    "\n",
    "if passes > 8:\n",
    "    print('Bonus to instructor')\n",
    "\n"
   ]
  },
  {
   "cell_type": "code",
   "execution_count": 7,
   "metadata": {},
   "outputs": [],
   "source": [
    "a=b=7"
   ]
  },
  {
   "cell_type": "code",
   "execution_count": 10,
   "metadata": {},
   "outputs": [
    {
     "name": "stdout",
     "output_type": "stream",
     "text": [
      "a = 7 \n",
      "b = 7\n"
     ]
    }
   ],
   "source": [
    "print('a =', a, '\\nb =', b)"
   ]
  },
  {
   "cell_type": "code",
   "execution_count": 12,
   "metadata": {},
   "outputs": [
    {
     "name": "stdout",
     "output_type": "stream",
     "text": [
      "0\n",
      "0\n",
      "0\n",
      "1\n",
      "0\n",
      "2\n",
      "0\n",
      "3\n",
      "1\n",
      "0\n",
      "1\n",
      "1\n",
      "1\n",
      "2\n",
      "1\n",
      "3\n",
      "2\n",
      "0\n",
      "2\n",
      "1\n",
      "2\n",
      "2\n",
      "2\n",
      "3\n"
     ]
    }
   ],
   "source": [
    "for row in range(3):\n",
    "    for column in range(4):\n",
    "        print(row)\n",
    "        print(column)"
   ]
  },
  {
   "cell_type": "code",
   "execution_count": 13,
   "metadata": {},
   "outputs": [
    {
     "name": "stdout",
     "output_type": "stream",
     "text": [
      ">>>>>\n",
      "<<<<<\n",
      ">>>>>\n",
      "<<<<<\n"
     ]
    }
   ],
   "source": [
    "for row in range(4):\n",
    "    for column in range(5):\n",
    "        print('<' if row % 2 ==1 else '>', end='')\n",
    "    print()"
   ]
  },
  {
   "cell_type": "code",
   "execution_count": 14,
   "metadata": {},
   "outputs": [
    {
     "name": "stdout",
     "output_type": "stream",
     "text": [
      "@@@@@@@@@@@@@\n",
      "@@@@@@@@@@@@@\n"
     ]
    }
   ],
   "source": [
    "for row in range(2):\n",
    "    for column in range(13):\n",
    "        print('@', end='')\n",
    "    print()"
   ]
  },
  {
   "cell_type": "code",
   "execution_count": 20,
   "metadata": {},
   "outputs": [
    {
     "name": "stdout",
     "output_type": "stream",
     "text": [
      "0\t0\t0\n",
      "1\t1\t1\n",
      "2\t4\t8\n",
      "3\t9\t27\n",
      "4\t16\t64\n",
      "5\t25\t125\n"
     ]
    }
   ],
   "source": [
    "for number in range(6):\n",
    "    print(f'{number}\\t{number**2}\\t{number**3}')"
   ]
  },
  {
   "cell_type": "code",
   "execution_count": 41,
   "metadata": {},
   "outputs": [
    {
     "data": {
      "text/plain": [
       "100"
      ]
     },
     "execution_count": 41,
     "metadata": {},
     "output_type": "execute_result"
    }
   ],
   "source": [
    "integer1 = int(input('Enter first integer: '))\n",
    "integer2 = int(input('Enter second integer: '))\n",
    "integer3 = int(input('Enter third integer: '))\n",
    "\n",
    "#sum = (integer1 + integer2 + integer3)\n",
    "\n",
    "#average = (sum/3)\n",
    "\n",
    "#product = (integer1 * integer2 * integer3)\n",
    "\n",
    "if integer1 > integer2:\n",
    "    biggest = integer1\n",
    "    if integer3 > biggest:\n",
    "        biggest = integer3\n",
    "if integer2 > integer3:\n",
    "    biggest = integer2\n",
    "    if integer1 > biggest:\n",
    "        biggest = integer1\n",
    "if integer3 > integer2:\n",
    "    biggest = integer3\n",
    "    if integer1 > biggest:\n",
    "        biggest = integer1\n",
    "\n",
    "biggest\n"
   ]
  },
  {
   "cell_type": "code",
   "execution_count": 49,
   "metadata": {},
   "outputs": [
    {
     "name": "stdout",
     "output_type": "stream",
     "text": [
      "4 2 3 3 9 "
     ]
    }
   ],
   "source": [
    "#3.9\n",
    "five_digit = int(input('Enter a integer: '))\n",
    "\n",
    "for number in str(five_digit):\n",
    "    print(number, end=' ')"
   ]
  },
  {
   "cell_type": "code",
   "execution_count": 68,
   "metadata": {},
   "outputs": [
    {
     "name": "stdout",
     "output_type": "stream",
     "text": [
      "1 2 3 4 5 6 "
     ]
    }
   ],
   "source": [
    "#3.9\n",
    "\"\"\"Use a loop that in each iteration “picks off” one digit (left to right)\n",
    "using the // and % operators, then displays that digit.\"\"\"\n",
    "\n",
    "five_digit = int(input('Enter a integer: '))\n",
    "\n",
    "divisor = 100000\n",
    "\n",
    "while divisor >= 1:\n",
    "    digit = five_digit // divisor\n",
    "    print(int(digit), end=' ')\n",
    "    five_digit = five_digit % divisor\n",
    "    divisor = divisor / 10\n"
   ]
  },
  {
   "cell_type": "code",
   "execution_count": null,
   "metadata": {},
   "outputs": [],
   "source": [
    "p = 1000\n",
    "r = 0.07\n",
    "\n",
    "for n in range(1, 31):\n",
    "    a = p * (1 + r) ** n\n",
    "    print(a)"
   ]
  },
  {
   "cell_type": "code",
   "execution_count": null,
   "metadata": {},
   "outputs": [],
   "source": []
  }
 ],
 "metadata": {
  "kernelspec": {
   "display_name": "Python 3",
   "language": "python",
   "name": "python3"
  },
  "language_info": {
   "codemirror_mode": {
    "name": "ipython",
    "version": 3
   },
   "file_extension": ".py",
   "mimetype": "text/x-python",
   "name": "python",
   "nbconvert_exporter": "python",
   "pygments_lexer": "ipython3",
   "version": "3.12.3"
  }
 },
 "nbformat": 4,
 "nbformat_minor": 2
}
