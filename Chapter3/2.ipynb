{
 "cells": [
  {
   "cell_type": "code",
   "execution_count": 33,
   "metadata": {},
   "outputs": [
    {
     "name": "stdout",
     "output_type": "stream",
     "text": [
      "You entered: -1\n"
     ]
    }
   ],
   "source": [
    "#3.22\n",
    "for i in range(2):\n",
    "    value = int(input('Enter an integer (-1 to break): '))\n",
    "    print('You entered:', value)\n",
    "\n",
    "    if value == -1:\n",
    "        break\n",
    "else:\n",
    "    print('The loop terminated without executing the break')"
   ]
  },
  {
   "cell_type": "code",
   "execution_count": 32,
   "metadata": {},
   "outputs": [
    {
     "name": "stdout",
     "output_type": "stream",
     "text": [
      "(a)\t\t(b)\t(c)\t\t(d)\n",
      "*           **********  **********           *\n",
      "**          *********    *********          **\n",
      "***         ********      ********         ***\n",
      "****        *******        *******        ****\n",
      "*****       ******          ******       *****\n",
      "******      *****            *****      ******\n",
      "*******     ****              ****     *******\n",
      "********    ***                ***    ********\n",
      "*********   **                  **   *********\n",
      "**********  *                    *  **********\n"
     ]
    }
   ],
   "source": [
    "#3.17\n",
    "print('(a)\\t\\t(b)\\t(c)\\t\\t(d)')\n",
    "\n",
    "rows = 10\n",
    "\n",
    "for i in range (1, rows + 1):\n",
    "    pattern_a = '*' * i\n",
    "    pattern_b = '*' * (rows - i + 1)\n",
    "    pattern_c = '*' * (rows - i + 1)\n",
    "    pattern_d = '*' * i\n",
    "\n",
    "    print(f'{pattern_a:<10}  {pattern_b:<10}  {pattern_c:>10}  {pattern_d:>10}')"
   ]
  },
  {
   "cell_type": "code",
   "execution_count": null,
   "metadata": {},
   "outputs": [],
   "source": [
    "\n"
   ]
  },
  {
   "cell_type": "code",
   "execution_count": 39,
   "metadata": {},
   "outputs": [
    {
     "name": "stdout",
     "output_type": "stream",
     "text": [
      "3, 4, 5\n",
      "4, 3, 5\n",
      "5, 12, 13\n",
      "6, 8, 10\n",
      "8, 6, 10\n",
      "8, 15, 17\n",
      "9, 12, 15\n",
      "12, 5, 13\n",
      "12, 9, 15\n",
      "12, 16, 20\n",
      "15, 8, 17\n",
      "16, 12, 20\n"
     ]
    }
   ],
   "source": [
    "#3.19\n",
    "max_side = 21\n",
    "\n",
    "for side1 in range(1, max_side):\n",
    "    for side2 in range(1, max_side):\n",
    "        for hypotenuse in range(1, max_side):\n",
    "            if side1**2 + side2**2 == hypotenuse**2:\n",
    "                print(f'{side1}, {side2}, {hypotenuse}')"
   ]
  },
  {
   "cell_type": "code",
   "execution_count": 50,
   "metadata": {},
   "outputs": [
    {
     "name": "stdout",
     "output_type": "stream",
     "text": [
      "12345 was not a palendrome.\n"
     ]
    }
   ],
   "source": [
    "#3.12\n",
    "number = int(input(\"Enter a five digit integer: \"))\n",
    "\n",
    "if number >= 10000 and number <=99999:\n",
    "    digit1 = number // 10000\n",
    "    digit2 = (number // 1000) % 10\n",
    "    digit3 = (number // 100) % 10\n",
    "    digit4 = (number // 10) % 10\n",
    "    digit5 = number % 10\n",
    "\n",
    "    if digit1 == digit5 and digit2 == digit4:\n",
    "        print(f'{number} was a palendrome.')\n",
    "    else:\n",
    "        print(f'{number} was not a palendrome.')\n",
    "\n",
    "else:\n",
    "    print('Please enter a five-digit number.')"
   ]
  },
  {
   "cell_type": "code",
   "execution_count": 53,
   "metadata": {},
   "outputs": [
    {
     "name": "stdout",
     "output_type": "stream",
     "text": [
      "Please enter a five-digit integer.\n"
     ]
    }
   ],
   "source": [
    "number = int(input('Enter a five-digit number: '))\n",
    "\n",
    "if 10000 <= number <= 99999:\n",
    "    digit1 = number // 10000\n",
    "    digit2 = (number // 1000) % 10\n",
    "    digit3 = (number // 100) % 10\n",
    "    digit4 = (number // 10) % 10\n",
    "    digit5 = number % 10\n",
    "\n",
    "    if digit1 == digit5 and digit2 == digit4:\n",
    "        print(f'{number} was a palendrome.')\n",
    "    else:\n",
    "        print(f'{number} was not a palendrome.')\n",
    "\n",
    "else: print('Please enter a five-digit integer.')"
   ]
  },
  {
   "cell_type": "code",
   "execution_count": null,
   "metadata": {},
   "outputs": [],
   "source": []
  }
 ],
 "metadata": {
  "kernelspec": {
   "display_name": "Python 3",
   "language": "python",
   "name": "python3"
  },
  "language_info": {
   "codemirror_mode": {
    "name": "ipython",
    "version": 3
   },
   "file_extension": ".py",
   "mimetype": "text/x-python",
   "name": "python",
   "nbconvert_exporter": "python",
   "pygments_lexer": "ipython3",
   "version": "3.12.3"
  }
 },
 "nbformat": 4,
 "nbformat_minor": 2
}
