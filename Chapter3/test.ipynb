{
 "cells": [
  {
   "cell_type": "code",
   "execution_count": 4,
   "metadata": {},
   "outputs": [
    {
     "name": "stdout",
     "output_type": "stream",
     "text": [
      "a = 7 \n",
      "b = 7\n",
      "a = 7\n",
      "b = 7\n"
     ]
    }
   ],
   "source": [
    "#3.2\n",
    "\n",
    "a = b = 7\n",
    "print('a =', a, '\\nb =', b)\n",
    "\n",
    "# or \n",
    "\n",
    "a = b = 7\n",
    "print('a =', a)\n",
    "print('b =', b)"
   ]
  },
  {
   "cell_type": "code",
   "execution_count": 5,
   "metadata": {},
   "outputs": [
    {
     "name": "stdout",
     "output_type": "stream",
     "text": [
      ">>>>>>>>>>\n",
      "<<<<<<<<<<\n",
      ">>>>>>>>>>\n",
      "<<<<<<<<<<\n",
      ">>>>>>>>>>\n",
      "<<<<<<<<<<\n",
      ">>>>>>>>>>\n",
      "<<<<<<<<<<\n",
      ">>>>>>>>>>\n",
      "<<<<<<<<<<\n"
     ]
    }
   ],
   "source": [
    "#3.3\n",
    "for row in range(10):\n",
    "    for column in range(10):\n",
    "        print('<' if row % 2 ==1 else '>', end='')\n",
    "    print()"
   ]
  },
  {
   "cell_type": "code",
   "execution_count": 10,
   "metadata": {},
   "outputs": [
    {
     "name": "stdout",
     "output_type": "stream",
     "text": [
      "@@@@@@@\n",
      "@@@@@@@\n"
     ]
    }
   ],
   "source": [
    "#3.4\n",
    "\n",
    "#for ***:\n",
    "#    for ***:\n",
    "#        print('@')\n",
    "#    print()\n",
    "\n",
    "for row in range(2):\n",
    "    for column in range(7):\n",
    "        print('@', end='')\n",
    "    print()"
   ]
  },
  {
   "cell_type": "code",
   "execution_count": null,
   "metadata": {},
   "outputs": [],
   "source": [
    "#3.5\n",
    "print('Enter two integers, and I will tell you',\n",
    "       'the relationships they satisfy.')\n",
    "number1 = int(input('Enter first integer: '))\n",
    "\n",
    "number2 = int(input('Enter second integer: '))\n",
    "\n",
    "if number1 == number2:\n",
    "    print(number1, 'is equal to', number2)\n",
    "else:\n",
    "    print(number1, 'is not equal to', number2)\n",
    "\n",
    "if number1 < number2:\n",
    "    print(number1, 'is less than', number2)\n",
    "else:\n",
    "    print(number1, 'is greater than', number2)\n",
    "\n",
    "if number1 <= number2:\n",
    "    print(number1, 'is less than or equal to than', number2)\n",
    "else:\n",
    "    print(number1, 'is greater than or equal to', number2)"
   ]
  },
  {
   "cell_type": "code",
   "execution_count": 13,
   "metadata": {},
   "outputs": [
    {
     "name": "stdout",
     "output_type": "stream",
     "text": [
      "Independent Computer: What is your problem?\n",
      "Independent Computer: Have you had this problem before?\n",
      "Invalid Response.\n"
     ]
    }
   ],
   "source": [
    "#3.6\n",
    "print(\"What is your problem?\")\n",
    "input(\"User: \")\n",
    "\n",
    "print(\"Have you had this problem before?\")\n",
    "response = input(\"User: \")\n",
    "\n",
    "if response == \"yes\":\n",
    "    print('Well, you have it again.')\n",
    "elif response == \"no\":\n",
    "    print('Well, you have it now.')\n",
    "else: \n",
    "    print('Invalid Response. Please Try Again.')"
   ]
  },
  {
   "cell_type": "code",
   "execution_count": 21,
   "metadata": {},
   "outputs": [
    {
     "name": "stdout",
     "output_type": "stream",
     "text": [
      "number\tsquare\tcube\n",
      "     0\t    0\t   0\n",
      "     1\t    1\t   1\n",
      "     2\t    4\t   8\n",
      "     3\t    9\t  27\n",
      "     4\t   16\t  64\n",
      "     5\t   25\t 125\n"
     ]
    }
   ],
   "source": [
    "#3.7\n",
    "\n",
    "print('number\\tsquare\\tcube')\n",
    "for number in range(6):\n",
    "    square = number * number\n",
    "    cube = number * number * number\n",
    "    print(f'{number:6}\\t{square:5}\\t{cube:4}')"
   ]
  },
  {
   "cell_type": "code",
   "execution_count": null,
   "metadata": {},
   "outputs": [],
   "source": []
  }
 ],
 "metadata": {
  "kernelspec": {
   "display_name": "Python 3",
   "language": "python",
   "name": "python3"
  },
  "language_info": {
   "codemirror_mode": {
    "name": "ipython",
    "version": 3
   },
   "file_extension": ".py",
   "mimetype": "text/x-python",
   "name": "python",
   "nbconvert_exporter": "python",
   "pygments_lexer": "ipython3",
   "version": "3.12.3"
  }
 },
 "nbformat": 4,
 "nbformat_minor": 2
}
