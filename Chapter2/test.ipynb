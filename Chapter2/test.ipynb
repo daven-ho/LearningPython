{
 "cells": [
  {
   "cell_type": "code",
   "execution_count": 8,
   "metadata": {},
   "outputs": [
    {
     "name": "stdout",
     "output_type": "stream",
     "text": [
      "Congratulations! Your grade of 91 earns you an A in this course\n"
     ]
    }
   ],
   "source": [
    "grade = 91\n",
    "if grade >= 90: \n",
    "    print('Congratulations! Your grade of', grade, 'earns you an A in this course')"
   ]
  },
  {
   "cell_type": "code",
   "execution_count": 34,
   "metadata": {},
   "outputs": [
    {
     "name": "stdout",
     "output_type": "stream",
     "text": [
      "number\tsquare\tcube\n",
      "0 \t 0 \t 0\n",
      "1 \t 1 \t 1\n",
      "2 \t 4 \t 8\n",
      "3 \t 9 \t 27\n",
      "4 \t 16 \t 64\n",
      "5 \t 25 \t 125\n"
     ]
    }
   ],
   "source": [
    "print('number\\tsquare\\tcube')\n",
    "number = 0\n",
    "print(number,'\\t',number*number,'\\t',number*number*number)\n",
    "number = 1\n",
    "print(number,'\\t',number*number,'\\t',number*number*number)\n",
    "number = 2\n",
    "print(number,'\\t',number*number,'\\t',number*number*number)\n",
    "number = 3\n",
    "print(number,'\\t',number*number,'\\t',number*number*number)\n",
    "number = 4\n",
    "print(number,'\\t',number*number,'\\t',number*number*number)\n",
    "number = 5\n",
    "print(number,'\\t',number*number,'\\t',number*number*number)"
   ]
  },
  {
   "cell_type": "code",
   "execution_count": 39,
   "metadata": {},
   "outputs": [
    {
     "name": "stdout",
     "output_type": "stream",
     "text": [
      "num\tsub\tdiv\n",
      "30 \t 20 \t 6.0\n",
      "50 \t 40 \t 10.0\n",
      "110 \t 100 \t 22.0\n",
      "140 \t 130 \t 28.0\n",
      "200 \t 190 \t 40.0\n"
     ]
    }
   ],
   "source": [
    "print('num\\tsub\\tdiv')\n",
    "num = 30\n",
    "print(num,'\\t',num-10,'\\t',num/5)\n",
    "num = 50\n",
    "print(num,'\\t',num-10,'\\t',num/5)\n",
    "num = 110\n",
    "print(num,'\\t',num-10,'\\t',num/5)\n",
    "num = 140\n",
    "print(num,'\\t',num-10,'\\t',num/5)\n",
    "num = 200\n",
    "print(num,'\\t',num-10,'\\t',num/5)"
   ]
  },
  {
   "cell_type": "code",
   "execution_count": null,
   "metadata": {},
   "outputs": [],
   "source": [
    "integer = "
   ]
  }
 ],
 "metadata": {
  "kernelspec": {
   "display_name": "Python 3",
   "language": "python",
   "name": "python3"
  },
  "language_info": {
   "codemirror_mode": {
    "name": "ipython",
    "version": 3
   },
   "file_extension": ".py",
   "mimetype": "text/x-python",
   "name": "python",
   "nbconvert_exporter": "python",
   "pygments_lexer": "ipython3",
   "version": "3.12.3"
  }
 },
 "nbformat": 4,
 "nbformat_minor": 2
}
